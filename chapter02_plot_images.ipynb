{
 "cells": [
  {
   "cell_type": "markdown",
   "id": "61db6ae4",
   "metadata": {},
   "source": [
    "## Load mnist images"
   ]
  },
  {
   "cell_type": "code",
   "execution_count": null,
   "id": "a280d216",
   "metadata": {},
   "outputs": [],
   "source": [
    "from tensorflow.keras.datasets import mnist\n",
    "(train_images, train_labels), (test_images, test_labels) = mnist.load_data()"
   ]
  },
  {
   "cell_type": "markdown",
   "id": "a61b3f6d",
   "metadata": {},
   "source": [
    "### Plot"
   ]
  },
  {
   "cell_type": "code",
   "execution_count": null,
   "id": "cff4c555",
   "metadata": {},
   "outputs": [],
   "source": [
    "N = 42\n",
    "\n",
    "digit = train_images[N]\n",
    "print(train_labels[N])\n",
    "print(digit.shape)"
   ]
  },
  {
   "cell_type": "code",
   "execution_count": null,
   "id": "f5f5cb5b",
   "metadata": {},
   "outputs": [],
   "source": [
    "import matplotlib.pyplot as plt\n",
    "plt.imshow(digit, cmap=plt.cm.binary)\n",
    "plt.show()"
   ]
  },
  {
   "cell_type": "code",
   "execution_count": null,
   "id": "49707814",
   "metadata": {},
   "outputs": [],
   "source": []
  }
 ],
 "metadata": {
  "kernelspec": {
   "display_name": "Python 3 (ipykernel)",
   "language": "python",
   "name": "python3"
  },
  "language_info": {
   "codemirror_mode": {
    "name": "ipython",
    "version": 3
   },
   "file_extension": ".py",
   "mimetype": "text/x-python",
   "name": "python",
   "nbconvert_exporter": "python",
   "pygments_lexer": "ipython3",
   "version": "3.9.10"
  }
 },
 "nbformat": 4,
 "nbformat_minor": 5
}
