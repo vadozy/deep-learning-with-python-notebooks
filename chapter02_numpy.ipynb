{
 "cells": [
  {
   "cell_type": "code",
   "execution_count": null,
   "id": "3ce3f665",
   "metadata": {},
   "outputs": [],
   "source": [
    "import numpy as np"
   ]
  },
  {
   "cell_type": "code",
   "execution_count": null,
   "id": "a60e557f",
   "metadata": {},
   "outputs": [],
   "source": [
    "ar1 = np.arange(12).reshape((4, 3))\n",
    "ar1"
   ]
  },
  {
   "cell_type": "code",
   "execution_count": null,
   "id": "c84e6cda",
   "metadata": {},
   "outputs": [],
   "source": [
    "ar2 = np.arange(3)\n",
    "ar2"
   ]
  },
  {
   "cell_type": "code",
   "execution_count": null,
   "id": "232998a5",
   "metadata": {},
   "outputs": [],
   "source": [
    "ar1 - ar2"
   ]
  },
  {
   "cell_type": "code",
   "execution_count": null,
   "id": "1a3a57d5",
   "metadata": {},
   "outputs": [],
   "source": [
    "np.dot(ar2, ar2)"
   ]
  },
  {
   "cell_type": "code",
   "execution_count": null,
   "id": "2ea6fe2d",
   "metadata": {},
   "outputs": [],
   "source": [
    "np.zeros(shape=(2,1))"
   ]
  },
  {
   "cell_type": "code",
   "execution_count": null,
   "id": "cede4ea4",
   "metadata": {},
   "outputs": [],
   "source": [
    "np.zeros((2,1))"
   ]
  },
  {
   "cell_type": "code",
   "execution_count": null,
   "id": "98151156",
   "metadata": {},
   "outputs": [],
   "source": []
  }
 ],
 "metadata": {
  "kernelspec": {
   "display_name": "Python 3 (ipykernel)",
   "language": "python",
   "name": "python3"
  },
  "language_info": {
   "codemirror_mode": {
    "name": "ipython",
    "version": 3
   },
   "file_extension": ".py",
   "mimetype": "text/x-python",
   "name": "python",
   "nbconvert_exporter": "python",
   "pygments_lexer": "ipython3",
   "version": "3.9.10"
  }
 },
 "nbformat": 4,
 "nbformat_minor": 5
}
